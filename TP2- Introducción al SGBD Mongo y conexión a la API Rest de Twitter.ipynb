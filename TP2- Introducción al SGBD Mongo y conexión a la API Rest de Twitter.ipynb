{
 "cells": [
  {
   "cell_type": "markdown",
   "metadata": {},
   "source": [
    "# TP2- Introducción al SGBD MongoDB y Conexión a la API Rest de Twitter"
   ]
  },
  {
   "cell_type": "markdown",
   "metadata": {},
   "source": [
    "En este trabajo práctico queremos descubrir las características del SGBD no relacional MongoDB. En este sentido, vamos a desarrollar un script que se conecta a la API Rest de Twitter para: 1) descargar datos al formato JSON, 2) almacenarlos en una base Mongo y 3) realizar algunas consultas sobre los datos."
   ]
  },
  {
   "cell_type": "markdown",
   "metadata": {},
   "source": [
    "## 1. Conectarse a la API Rest de Twitter"
   ]
  },
  {
   "cell_type": "markdown",
   "metadata": {},
   "source": [
    "- ¿Cómo crear una aplicación utilizando los datos de Twitter?: https://developer.twitter.com/en/docs/basics/getting-started\n",
    "- Crear una aplicación utilizando los datos de Twitter: https://apps.twitter.com/\n",
    "- ¿Qué deberían saber todos los desarrolladores antes de jugar con la API de twitter?: https://developer.twitter.com/en/docs/basics/things-every-developer-should-know"
   ]
  },
  {
   "cell_type": "code",
   "execution_count": 1,
   "metadata": {},
   "outputs": [
    {
     "data": {
      "text/plain": [
       "{'contributors': None,\n",
       " 'coordinates': None,\n",
       " 'created_at': 'Mon Apr 16 19:38:22 +0000 2018',\n",
       " 'entities': {'hashtags': [], 'symbols': [], 'urls': [], 'user_mentions': []},\n",
       " 'favorite_count': 0,\n",
       " 'favorited': False,\n",
       " 'geo': None,\n",
       " 'id': 985965643412508672,\n",
       " 'id_str': '985965643412508672',\n",
       " 'in_reply_to_screen_name': None,\n",
       " 'in_reply_to_status_id': None,\n",
       " 'in_reply_to_status_id_str': None,\n",
       " 'in_reply_to_user_id': None,\n",
       " 'in_reply_to_user_id_str': None,\n",
       " 'is_quote_status': False,\n",
       " 'lang': 'fr',\n",
       " 'place': None,\n",
       " 'retweet_count': 0,\n",
       " 'retweeted': False,\n",
       " 'source': '<a href=\"http://www.uach.cl\" rel=\"nofollow\">MongoUAChJVS</a>',\n",
       " 'text': 'Publicado desde Python 3x',\n",
       " 'truncated': False,\n",
       " 'user': {'contributors_enabled': False,\n",
       "  'created_at': 'Sun Aug 21 04:24:44 +0000 2011',\n",
       "  'default_profile': True,\n",
       "  'default_profile_image': False,\n",
       "  'description': 'Estudiante de Ingeniería Civil en Informática, amante de los computadores, celulares... Tecnología en general ... Eso xD',\n",
       "  'entities': {'description': {'urls': []}},\n",
       "  'favourites_count': 36,\n",
       "  'follow_request_sent': False,\n",
       "  'followers_count': 54,\n",
       "  'following': False,\n",
       "  'friends_count': 109,\n",
       "  'geo_enabled': True,\n",
       "  'has_extended_profile': False,\n",
       "  'id': 359177868,\n",
       "  'id_str': '359177868',\n",
       "  'is_translation_enabled': False,\n",
       "  'is_translator': False,\n",
       "  'lang': 'es',\n",
       "  'listed_count': 1,\n",
       "  'location': 'Valdivia',\n",
       "  'name': 'Javier Vallejos',\n",
       "  'notifications': False,\n",
       "  'profile_background_color': 'C0DEED',\n",
       "  'profile_background_image_url': 'http://abs.twimg.com/images/themes/theme1/bg.png',\n",
       "  'profile_background_image_url_https': 'https://abs.twimg.com/images/themes/theme1/bg.png',\n",
       "  'profile_background_tile': False,\n",
       "  'profile_image_url': 'http://pbs.twimg.com/profile_images/1562297061/South_Park_Avatar_Wallpaper1600x1200_normal.png',\n",
       "  'profile_image_url_https': 'https://pbs.twimg.com/profile_images/1562297061/South_Park_Avatar_Wallpaper1600x1200_normal.png',\n",
       "  'profile_link_color': '1DA1F2',\n",
       "  'profile_sidebar_border_color': 'C0DEED',\n",
       "  'profile_sidebar_fill_color': 'DDEEF6',\n",
       "  'profile_text_color': '333333',\n",
       "  'profile_use_background_image': True,\n",
       "  'protected': False,\n",
       "  'screen_name': 'Javier07v',\n",
       "  'statuses_count': 2,\n",
       "  'time_zone': None,\n",
       "  'translator_type': 'none',\n",
       "  'url': None,\n",
       "  'utc_offset': None,\n",
       "  'verified': False}}"
      ]
     },
     "execution_count": 1,
     "metadata": {},
     "output_type": "execute_result"
    }
   ],
   "source": [
    "from twython import Twython\n",
    "\n",
    "APP_KEY = 'a87cc1MdQ1M6OzmNIbqunHHPx'\n",
    "APP_SECRET = 'USwlg8nWlILeWW8AwwKeLEx49o9271CAV09Ph5VRgBuxKuuL1s'\n",
    "\n",
    "OAUTH_TOKEN = '359177868-5hevFi0ceW1LrsEEmXGF9u7ndDtwar84a34lantS'\n",
    "OAUTH_TOKEN_SECRET = 'xKm5QkKOH2IXhWFhFjDD6zirdGKjfvkSIpBy5tS4VCsCu'\n",
    "\n",
    "twitter = Twython(APP_KEY, APP_SECRET,\n",
    "                  OAUTH_TOKEN, OAUTH_TOKEN_SECRET)\n",
    "\n",
    "twitter.update_status(status='Publicado desde Python 3x')\n",
    "\n",
    "\n",
    "\n"
   ]
  },
  {
   "cell_type": "markdown",
   "metadata": {},
   "source": [
    "## 2. Consultar la API de Twitter"
   ]
  },
  {
   "cell_type": "markdown",
   "metadata": {},
   "source": [
    "- Utilizando una librería Python que permite enviar consultas HTTP a la API de Twitter, conectarse a un 'endpoint' de la API para leer datos. Ver la lista de los endpoints: https://developer.twitter.com/en/docs/tweets/post-and-engage/overview"
   ]
  },
  {
   "cell_type": "code",
   "execution_count": 3,
   "metadata": {},
   "outputs": [
    {
     "name": "stdout",
     "output_type": "stream",
     "text": [
      "10\n",
      "[{'usuario': 'Bárbara Rojas-Ayala', 'localizacion': 'Santiago, Chile', 'texto': \"'Prohibición de postular o ejercer cargos directivos por 4 semestres a contar de la fecha de la presente resolución… https://t.co/g38zNnOTIV\", 'fecha': 'Mon Apr 16 19:34:44 +0000 2018'}, {'usuario': 'Jesus Gerardo Colung', 'localizacion': '', 'texto': 'RT @Coordinadora1DM: El 1er Diálogo Nacional sobre el #NAICM es el próximo miércoles 18 de Abril en el Auditorio Emiliano Zapata de la Univ…', 'fecha': 'Mon Apr 16 19:34:44 +0000 2018'}, {'usuario': 'Fac. Filosofía UACh', 'localizacion': 'Valdivia- Chile', 'texto': 'Este martes en el Auditorio del Edif. Eleazar Huerta presentarán el libro \"Relatos de vida en los Mares Australes\"… https://t.co/L3MbDOgI6t', 'fecha': 'Mon Apr 16 19:33:42 +0000 2018'}, {'usuario': 'Tania Villasenor', 'localizacion': 'Santiago, Chile', 'texto': 'RT @mavargasa: No más acoso en las Universidades... ahora estamos unidas en la @RedInvestChile  La @UAustraldeChile debe expulsar al profes…', 'fecha': 'Mon Apr 16 19:22:22 +0000 2018'}, {'usuario': 'Miguel Angel Millar', 'localizacion': '', 'texto': 'Volvió Descarga Semanal!!!\\n\\nEscucha On-Line por: \\n\\nhttps://t.co/CEicWUKnBQ https://t.co/NLZbkB69Vl', 'fecha': 'Mon Apr 16 19:21:48 +0000 2018'}, {'usuario': 'Bárbara Rojas-Ayala', 'localizacion': 'Santiago, Chile', 'texto': 'Acoso Sexual Grave =&gt; Traslado hacia otra unidad =&gt; Más víctimas en el futuro ... Al parecer la #UACh no ha aprendi… https://t.co/QrPeJiSw12', 'fecha': 'Mon Apr 16 19:17:40 +0000 2018'}, {'usuario': 'Chio', 'localizacion': '', 'texto': 'RT @mavargasa: No más acoso en las Universidades... ahora estamos unidas en la @RedInvestChile  La @UAustraldeChile debe expulsar al profes…', 'fecha': 'Mon Apr 16 19:13:46 +0000 2018'}, {'usuario': 'CIESTAAM Chapingo', 'localizacion': 'Chapingo, México', 'texto': '#DeInterés, documento sobre #AgriculturaSostenible #CIESTAAM. @JReyesAltamira2 @Jorgechapingo @kikemtzglz… https://t.co/oMGhqitez8', 'fecha': 'Mon Apr 16 19:06:55 +0000 2018'}, {'usuario': 'RedDeInvestigadoras', 'localizacion': 'Chile', 'texto': 'Bien la federación de estudiantes frente a #acososexualuaxh @uaustral La UACh Converge FEUACh 2018 Centro Estudios… https://t.co/lHPWo2guDL', 'fecha': 'Mon Apr 16 19:03:52 +0000 2018'}, {'usuario': 'FacultadArtes', 'localizacion': 'Chihuahua, México', 'texto': 'Así comenzamos la semana !!! #SoyFA #UACH #RenovaciónUniversitaria https://t.co/hxIOWgRblQ', 'fecha': 'Mon Apr 16 19:02:06 +0000 2018'}]\n"
     ]
    }
   ],
   "source": [
    "resultados =twitter.search(q='Uach', count =10)\n",
    "\n",
    "print(len(resultados['statuses']))\n",
    "\n",
    "dat = []\n",
    "\n",
    "for i in range(0,len(resultados[\"statuses\"])):\n",
    "    texto = resultados[\"statuses\"][i][\"text\"]\n",
    "    fecha = resultados[\"statuses\"][i][\"created_at\"]\n",
    "    usuario = resultados[\"statuses\"][i][\"user\"][\"name\"]\n",
    "    localizacion = resultados[\"statuses\"][i][\"user\"][\"location\"]\n",
    "    gyzom = {\n",
    "        \"texto\": texto,\n",
    "        \"fecha\": fecha,\n",
    "        \"usuario\": usuario,\n",
    "        \"localizacion\": localizacion\n",
    "        }\n",
    "    dat.append(gyzom)\n",
    "\n",
    "print(dat)"
   ]
  },
  {
   "cell_type": "markdown",
   "metadata": {},
   "source": [
    "## 3. Conectarse al SGBD Mongo"
   ]
  },
  {
   "cell_type": "markdown",
   "metadata": {},
   "source": [
    "- Conectarse a Mongo desde Python utilizando la librería adecuada"
   ]
  },
  {
   "cell_type": "code",
   "execution_count": 15,
   "metadata": {},
   "outputs": [
    {
     "ename": "ImportError",
     "evalue": "No module named 'pymongo'",
     "output_type": "error",
     "traceback": [
      "\u001b[0;31m---------------------------------------------------------------------------\u001b[0m",
      "\u001b[0;31mImportError\u001b[0m                               Traceback (most recent call last)",
      "\u001b[0;32m<ipython-input-15-ff3512eea409>\u001b[0m in \u001b[0;36m<module>\u001b[0;34m()\u001b[0m\n\u001b[0;32m----> 1\u001b[0;31m \u001b[0;32mfrom\u001b[0m \u001b[0mpymongo\u001b[0m \u001b[0;32mimport\u001b[0m \u001b[0mMongoClient\u001b[0m\u001b[0;34m\u001b[0m\u001b[0m\n\u001b[0m\u001b[1;32m      2\u001b[0m \u001b[0;34m\u001b[0m\u001b[0m\n\u001b[1;32m      3\u001b[0m \u001b[0mclient\u001b[0m \u001b[0;34m=\u001b[0m \u001b[0mMongoClient\u001b[0m\u001b[0;34m(\u001b[0m\u001b[0;34m)\u001b[0m\u001b[0;34m\u001b[0m\u001b[0m\n\u001b[1;32m      4\u001b[0m \u001b[0mdb\u001b[0m \u001b[0;34m=\u001b[0m \u001b[0mclient\u001b[0m\u001b[0;34m.\u001b[0m\u001b[0mtwitte\u001b[0m\u001b[0;34m\u001b[0m\u001b[0m\n\u001b[1;32m      5\u001b[0m \u001b[0mcoleccion\u001b[0m \u001b[0;34m=\u001b[0m \u001b[0mdb\u001b[0m\u001b[0;34m.\u001b[0m\u001b[0mdataset\u001b[0m\u001b[0;34m\u001b[0m\u001b[0m\n",
      "\u001b[0;31mImportError\u001b[0m: No module named 'pymongo'"
     ]
    }
   ],
   "source": [
    "from pymongo import MongoClient\n",
    "\n",
    "client = MongoClient()\n",
    "db = client.twitte\n",
    "coleccion = db.dataset"
   ]
  },
  {
   "cell_type": "markdown",
   "metadata": {},
   "source": [
    "## 4. Escribir datos de Twitter en una Base de Datos Mongo"
   ]
  },
  {
   "cell_type": "code",
   "execution_count": 10,
   "metadata": {},
   "outputs": [
    {
     "ename": "NameError",
     "evalue": "name 'db' is not defined",
     "output_type": "error",
     "traceback": [
      "\u001b[0;31m---------------------------------------------------------------------------\u001b[0m",
      "\u001b[0;31mNameError\u001b[0m                                 Traceback (most recent call last)",
      "\u001b[0;32m<ipython-input-10-09c29566b8bc>\u001b[0m in \u001b[0;36m<module>\u001b[0;34m()\u001b[0m\n\u001b[0;32m----> 1\u001b[0;31m \u001b[0mposts\u001b[0m \u001b[0;34m=\u001b[0m \u001b[0mdb\u001b[0m\u001b[0;34m.\u001b[0m\u001b[0mposts\u001b[0m\u001b[0;34m\u001b[0m\u001b[0m\n\u001b[0m\u001b[1;32m      2\u001b[0m \u001b[0;32mfor\u001b[0m \u001b[0mi\u001b[0m \u001b[0;32min\u001b[0m \u001b[0mrange\u001b[0m \u001b[0;34m(\u001b[0m\u001b[0;36m0\u001b[0m\u001b[0;34m,\u001b[0m\u001b[0mlen\u001b[0m\u001b[0;34m(\u001b[0m\u001b[0mdatos\u001b[0m\u001b[0;34m)\u001b[0m\u001b[0;34m)\u001b[0m\u001b[0;34m:\u001b[0m\u001b[0;34m\u001b[0m\u001b[0m\n\u001b[1;32m      3\u001b[0m    \u001b[0mpost_id\u001b[0m \u001b[0;34m=\u001b[0m\u001b[0mposts\u001b[0m\u001b[0;34m.\u001b[0m\u001b[0minsert_one\u001b[0m\u001b[0;34m(\u001b[0m\u001b[0mdatos\u001b[0m\u001b[0;34m[\u001b[0m\u001b[0mi\u001b[0m\u001b[0;34m]\u001b[0m\u001b[0;34m)\u001b[0m\u001b[0;34m\u001b[0m\u001b[0m\n",
      "\u001b[0;31mNameError\u001b[0m: name 'db' is not defined"
     ]
    }
   ],
   "source": [
    "posts = db.posts\n",
    "for i in range (0,len(datos)):\n",
    "   post_id =posts.insert_one(datos[i])"
   ]
  },
  {
   "cell_type": "code",
   "execution_count": null,
   "metadata": {},
   "outputs": [],
   "source": []
  },
  {
   "cell_type": "markdown",
   "metadata": {},
   "source": [
    "# Parte I: Desde su notebook realizar las siguientes consultas\n"
   ]
  },
  {
   "cell_type": "markdown",
   "metadata": {},
   "source": [
    "## 1. Mostrar los documentos de su colección mostrando solamente el campo \"location\"."
   ]
  },
  {
   "cell_type": "code",
   "execution_count": 12,
   "metadata": {},
   "outputs": [
    {
     "ename": "NameError",
     "evalue": "name 'posts' is not defined",
     "output_type": "error",
     "traceback": [
      "\u001b[0;31m---------------------------------------------------------------------------\u001b[0m",
      "\u001b[0;31mNameError\u001b[0m                                 Traceback (most recent call last)",
      "\u001b[0;32m<ipython-input-12-9e441c08d099>\u001b[0m in \u001b[0;36m<module>\u001b[0;34m()\u001b[0m\n\u001b[0;32m----> 1\u001b[0;31m \u001b[0mlocalizaciones\u001b[0m \u001b[0;34m=\u001b[0m\u001b[0mposts\u001b[0m\u001b[0;34m.\u001b[0m\u001b[0mfind\u001b[0m\u001b[0;34m(\u001b[0m\u001b[0;34m{\u001b[0m\u001b[0;34m}\u001b[0m\u001b[0;34m,\u001b[0m\u001b[0;34m{\u001b[0m\u001b[0;34m'localizacion'\u001b[0m\u001b[0;34m:\u001b[0m\u001b[0;36m1\u001b[0m\u001b[0;34m,\u001b[0m \u001b[0;34m'_id'\u001b[0m\u001b[0;34m:\u001b[0m\u001b[0;36m0\u001b[0m\u001b[0;34m}\u001b[0m\u001b[0;34m)\u001b[0m\u001b[0;34m\u001b[0m\u001b[0m\n\u001b[0m\u001b[1;32m      2\u001b[0m \u001b[0;32mfor\u001b[0m \u001b[0mdatos\u001b[0m \u001b[0;32min\u001b[0m \u001b[0mlocalizaciones\u001b[0m\u001b[0;34m:\u001b[0m\u001b[0;34m\u001b[0m\u001b[0m\n\u001b[1;32m      3\u001b[0m     \u001b[0mprint\u001b[0m\u001b[0;34m(\u001b[0m\u001b[0mdatos\u001b[0m\u001b[0;34m)\u001b[0m\u001b[0;34m\u001b[0m\u001b[0m\n",
      "\u001b[0;31mNameError\u001b[0m: name 'posts' is not defined"
     ]
    }
   ],
   "source": [
    "localizaciones =posts.find({},{'localizacion':1, '_id':0})\n",
    "for datos in localizaciones:\n",
    "    print(datos)"
   ]
  },
  {
   "cell_type": "markdown",
   "metadata": {},
   "source": [
    "## 2. Mostrar los tweets que contienen la palabra \"Uach\""
   ]
  },
  {
   "cell_type": "code",
   "execution_count": null,
   "metadata": {},
   "outputs": [],
   "source": []
  },
  {
   "cell_type": "markdown",
   "metadata": {},
   "source": [
    "## 3. Contar el número de tweet por username"
   ]
  },
  {
   "cell_type": "code",
   "execution_count": 14,
   "metadata": {},
   "outputs": [
    {
     "ename": "NameError",
     "evalue": "name 'posts' is not defined",
     "output_type": "error",
     "traceback": [
      "\u001b[0;31m---------------------------------------------------------------------------\u001b[0m",
      "\u001b[0;31mNameError\u001b[0m                                 Traceback (most recent call last)",
      "\u001b[0;32m<ipython-input-14-ecf169214ecc>\u001b[0m in \u001b[0;36m<module>\u001b[0;34m()\u001b[0m\n\u001b[0;32m----> 1\u001b[0;31m \u001b[0mntweet\u001b[0m \u001b[0;34m=\u001b[0m \u001b[0mposts\u001b[0m\u001b[0;34m.\u001b[0m\u001b[0mfind\u001b[0m\u001b[0;34m(\u001b[0m\u001b[0;34m{\u001b[0m\u001b[0;34m}\u001b[0m\u001b[0;34m,\u001b[0m\u001b[0;34m{\u001b[0m\u001b[0;34m'nombre'\u001b[0m\u001b[0;34m:\u001b[0m\u001b[0;36m1\u001b[0m\u001b[0;34m}\u001b[0m\u001b[0;34m)\u001b[0m\u001b[0;34m\u001b[0m\u001b[0m\n\u001b[0m\u001b[1;32m      2\u001b[0m \u001b[0;32mfor\u001b[0m \u001b[0mdato\u001b[0m \u001b[0;32min\u001b[0m \u001b[0mntweet\u001b[0m\u001b[0;34m:\u001b[0m\u001b[0;34m\u001b[0m\u001b[0m\n\u001b[1;32m      3\u001b[0m     \u001b[0mprint\u001b[0m\u001b[0;34m(\u001b[0m\u001b[0mdato\u001b[0m\u001b[0;34m)\u001b[0m\u001b[0;34m\u001b[0m\u001b[0m\n",
      "\u001b[0;31mNameError\u001b[0m: name 'posts' is not defined"
     ]
    }
   ],
   "source": [
    "ntweet = posts.find({},{'nombre':1})\n",
    "for dato in ntweet:\n",
    "    print(dato)"
   ]
  },
  {
   "cell_type": "code",
   "execution_count": null,
   "metadata": {},
   "outputs": [],
   "source": []
  }
 ],
 "metadata": {
  "kernelspec": {
   "display_name": "Python 3",
   "language": "python",
   "name": "python3"
  },
  "language_info": {
   "codemirror_mode": {
    "name": "ipython",
    "version": 3
   },
   "file_extension": ".py",
   "mimetype": "text/x-python",
   "name": "python",
   "nbconvert_exporter": "python",
   "pygments_lexer": "ipython3",
   "version": "3.5.2"
  }
 },
 "nbformat": 4,
 "nbformat_minor": 2
}
