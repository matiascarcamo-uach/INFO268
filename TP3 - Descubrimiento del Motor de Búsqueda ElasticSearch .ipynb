{
 "cells": [
  {
   "cell_type": "markdown",
   "metadata": {},
   "source": [
    "# TP3- Descubrimiento del Motor de Búsqueda ElasticSearch"
   ]
  },
  {
   "cell_type": "markdown",
   "metadata": {},
   "source": [
    "## 1) Preguntas:\n",
    "\n",
    "1.1 ¿ElasticSearch es un SGBD de nueva generación? Qué es un motor de búsqueda?\n",
    "\n",
    "si puesto que permite almacenar informacion y acceder a ella, si bien no se accede a ella por los paradigmas convencionales (SQL) sino que por consultas en formato JSON. se puede usar como un sgbd de acuerdo a qué se quiere hacer con el.\n",
    "\n",
    "Un motor de busqueda es un sistema informático que busca datos en un servidor web el ejemplo mas común y conocido es google.\n",
    "\n",
    "1.2 ¿Cuáles son sus principales caracteristicas? ¿Qué modelo lógico de datos utiliza?\n",
    "\n",
    "sus principales caracteristica es que se pueden almacenar documentos en formato JSON y pertenece al grupo de bases de datos no relacionales y es orientado a documento.\n",
    "\n",
    "1.3 ¿Cuáles son los puntos similares y las diferencias con el SGBD Mongo?\n",
    "\n",
    "Similares: almacenan y se consultan los datos en formato JSON, son no relacionales (los datos no estan relacionados entre si)\n",
    "\n",
    "Diferentes: elasticsearch es un motor de busqueda, por lo que está orientado a buscar datos en archivos guardados en el.\n",
    "\n",
    "1.4 ¿Cuál es la fecha de su primera versión? ¿Cuál es la frecuencia de aparación de nuevas versiones?\n",
    "\n",
    "la primera version es del 2010-02-08 y fue nombrada como 0.4, la última version fue el 17/04/2018 y corresponde a la 6.2.4 y es publicado un nuevo cambio cada mes.\n",
    "\n",
    "1.5 ¿Cuál es su licencia? Cuáles son las principales caracteristicas de esta licencia?\n",
    "\n",
    "su licencia es Apache License 2.0, las caracteristicas de esta licencia son: Al igual que otras licencias de software libre, todo el software producido por la ASF o cualquiera de sus proyectos está desarrollado bajo los términos de esta licencia, es decir, la licencia permite al usuario del software de la libertad de usar el software para cualquier propósito, para distribuirlo, modificarlo y distribuir versiones modificadas del software, bajo los términos de la licencia, sin preocuparse de las regalías.\n",
    "\n",
    "1.6 ¿Qué empresas o productos utilizan ElasticSearch? Cuáles son los casos de uso habituales?\n",
    "\n",
    "Empresas que utilizan elasticsearch: ebay, citibank, godaddy, sncf voyages, facebook, netflix entre otros. el uso tipico es por ejemplo en netflix que un usuario busque algo por alguna palabra clave en el titulo, resumen etc. \n",
    "\n",
    "1.7 ¿Cuáles son los otros productos desarrollados en la organización Elastic?\n",
    "\n",
    "otros productos: kibana, logstash, beats, x-pack, cloud/ece\n",
    "\n",
    "<b>Enlaces utiles</b>:\n",
    "\n",
    "https://www.elastic.co/products/elasticsearch\n",
    "\n",
    "https://en.wikipedia.org/wiki/Elasticsearch\n",
    "\n",
    "https://db-engines.com/en/ranking"
   ]
  },
  {
   "cell_type": "markdown",
   "metadata": {},
   "source": [
    "## 2) Instalar ElasticSearch\n",
    "\n",
    "2.1 Descargar e instalar ElasticSearch 6.2 (https://www.elastic.co/downloads/elasticsearch)\n",
    "\n",
    "2.2 Ejecutar ElasticSearch (bin/elasticsearch) con la configuración por defecto\n",
    "\n",
    "2.3 En un terminal, ejecutar el comando siguiente:\n",
    "\n",
    "curl -X GET \"http://localhost:9200/_cat/health?v\"\n",
    "\n",
    "De qué sirve el software CURL?\n",
    "Cuantos nodos y shards tiene su instalación de ElasticSearch? Cómo se llama su cluster?\n",
    "\n",
    "CURL es un interprete de comandos orientado a la transferencia de archivos y sirve para automatizar transferencia de archivos como simular consultas de un usuario en una página web, en nuestro caso lo utilizamos para enviar consultas o \"put\" de archivos json a elasticsearch\n",
    "\n",
    "trae 1 nodos y 1 shards\n",
    "información obtenida de: ./config/elasticsearch.yml\n",
    "#cluster.name: my-application <- nombre del cluster\n",
    "#node.name: node-1\n",
    "#index.number_of_shards: 1\n",
    "\n",
    "\n",
    "<b>Enlaces utiles:</b>\n",
    "\n",
    "https://www.elastic.co/guide/en/elasticsearch/reference/current/_cluster_health.html"
   ]
  },
  {
   "cell_type": "markdown",
   "metadata": {},
   "source": [
    "## 3) Operaciones CRUD básicas"
   ]
  },
  {
   "cell_type": "markdown",
   "metadata": {},
   "source": [
    "3.1 Listar los indices disponibles en el cluster\n",
    "\n",
    "3.2 Seguir el \"Getting Started\" de la documentación de ElasticSearch a partir de la sección siguiente: https://www.elastic.co/guide/en/elasticsearch/reference/current/_list_all_indices.html\n",
    "\n",
    "Listar Indices (para efectos prácticos se mostrarán todas las consultas en formato CURL):\n",
    "curl -X GET \"localhost:9200/_cat/indices?v\"\n",
    "\n",
    "Crear indice:\n",
    "curl -X PUT \"localhost:9200/customer?pretty\"\n",
    "\n",
    "Mostrar indices:\n",
    "curl -X GET \"localhost:9200/_cat/indices?v\"\n",
    "\n",
    "Insertar datos(en formato JSON solo agregaremos el nombre al indice customer):\n",
    "PUT /customer/_doc/1?pretty\n",
    "{\n",
    "  \"name\": \"John Doe\"\n",
    "}\n",
    "\n",
    "Eliminar un indice:\n",
    "DELETE /customer?pretty\n",
    "GET /_cat/indices?v\n"
   ]
  },
  {
   "cell_type": "markdown",
   "metadata": {},
   "source": [
    "## 4) Ejemplo de Aplicación en Python utilizando ElasticSearch\n",
    "Para ayudar la comunidad científica de la UACh, proponemos desarrollar un motor de búsqueda de los artículos científicos escritos por la comunidad UACh.\n",
    "\n",
    "4.1 Buscar en Internet (por ejemplo en el sitio \"Web Of Science\": http://apps.webofknowledge.com) algunos articulos científicos escritos por académicos de la UACh y copiar cada resumen de artículo en un archivo texto. "
   ]
  },
  {
   "cell_type": "markdown",
   "metadata": {},
   "source": [
    "art1:The purpose of this study is to determine the effectiveness of warming anesthesia on the control of the pain produced during the administration of dental anesthesia injection and to analyze the role of Transient Receptor Potential Vanilloid-1 nociceptor channels in this effect.\n",
    "Patients and methods: A double-blind, split-mouth randomized clinical trial was designed. Seventy-two volunteer students (22.1 +/- 2.45 years old; 51 men) from the School of Dentistry at the Universidad Austral de Chile (Valdivia, Chile) participated. They were each administered 0.9 mL of lidocaine HCl 2% with epinephrine 1: 100,000 (Alphacaine (R)) using two injections in the buccal vestibule at the level of the upper lateral incisor teeth. Anesthesia was administered in a hemiarch at 42 degrees C (107.6 degrees F) and after 1 week, anesthesia was administered by randomized sequence on the contralateral side at room temperature (21 degrees C-69.8 degrees F) at a standardized speed. The intensity of pain perceived during the injection was compared using a 100 mm visual analog scale (VAS; Wilcoxon test p<0.05). \n",
    "art2: Grain weight (GW) is an important component of grain yield and quality of sunflower and the improvement of this trait has been proposed as an aim for breeding of this crop. There is strong evidence suggesting the pre-flowering period as key to determining GW in different crops; however, the key traits and mechanisms controlling GW during this phase are still largely unknown in sunflower. This study conducted a detailed survey of how the pre-flowering period determines grain growth dynamics by assessing the early developmental process during the growth of reproductive organs and the sensitivity of GW, grain number (GN) and grain oil concentration to different source sink manipulations immediately before flowering. Two experiments were carried out under field conditions in two growing seasons. In Exp. 1 two sunflower oilseed hybrids contrasting in GW (Alybro and SG) were sown at the Experimental Station of the Universidad Austral de Chile in Valdivia (39 degrees 47'S, 73 degrees 14'W), Chile. In Exp. 2, the same hybrids plus a confectionery genotype (RHA) were evaluated in the Experimental Station where two source sink treatments were performed: a control (without manipulation) and a shading treatment starting 16 days previous to anthesis, i.e. during the R2-R5 period. Crop development, average and individual GW, GN and oil concentration of grains were assessed at harvest. Also, flower and grain traits and their dynamics were measured from early reproductive stage (ovary at R3) to harvest in different grain positions from the capitulum (e.g., fresh and dry weight and dimensions of grains, pericarp and embryo and grain oil concentration). GW was significantly affected by genotype and shading treatments imposed at pre-anthesis, but no statistical effect of the lower source sink ratio was found on GN. Contrary to GW, grain oil of oilseed genotypes was highly conservative under the source sink reduction in our study. Positive associations were found between final GW and: ovary weight at R3, at anthesis (R5), ovary growth rate, grain dimensions and water content. Final GW also showed a linear association with ovary growth rate. This study is the first to evaluate the ovary weight from the early development stage and the ovary growth rate during the pre-anthesis period in sunflower and the effect of source reduction at pre-anthesis on grain oil concentration, supporting the importance of the maternal tissues on the setting of potential and actual GW in sunflower.\n",
    "art3: In the present paper, the development of a model scale Wave Energy Converter (WEC) and an experimental WEC test rig are presented, and results of numerical simulations and experimental measurements are shown. The presented point absorber WEC is coupled to a generic power take-off (PTO) and is restricted to pure heave motion in regular waves. Experiments were carried out at the Universidad Austral de Chile (UACh) Wave Tank and results from responses and efficiencies were compared with data from the BEM (boundary element method) code WAMIT. Numerical and experimental results showed good agreement. Finally, results were extrapolated and superposed with typical wave energy spectra found in different Chilean regions, providing a first performance estimation for a wave energy converter in Chile. Results are discussed and compared with an existing technology and give an insight of the potential for wave energy technologies in Chile. Further investigation is proposed for an analysis in irregular waves and the use of a more advanced PTO (power take-off) in the future. (C) 2017 Elsevier Ltd. All rights reserved.\n",
    "art4: Worldwinde, cervids are considered an important source of infection and dissemination of a wide variety of pathogens, both for farm animals and humans. Among this diseases is sarcosporidiosis, which is a parasitic disease caused by Sarcocystis spp. (Protozoa: Apicomplexa). Most frequent clinical signs are hemolytic anemia, weakness, weight loss and decrease of growth and some species of Sarcocystis might cause abortions. The clinical disease in ruminants is fairly rare but the infection is very frequent. Infections are accumulative and the parasite does not generate immunity in any of the hosts. Ovine sarcosporidiosis is a serious issue in the some regions of Chile due to the macrocysts located in the muscle which means condemnation of the whole carcass. Sarcocystis spp. has been widely reported in red deer and other cervid species but in Chile the situation remains unknown. Nowadays there is little to no evidence of Sarcocystis in foreign deer in Chile and there is only one report of the parasite on pudu. The main goal of this study is to demonstrate the presence of Sarcocystis spp. in myocardium of red deer and fallow deer in Chile, and confirm the presence of Sarcocystis spp. in pudu. All cervid cases from 1994 to 2013 of the Institute of Animal Pathology of the Universidad Austral de Chile were reviewed. The animals selected were those in which a myocardium sample was taken. From the histopathological samples observed, it was found that 5 of the 9 red deer, 1 of the 4 fallow deer and in 11 of the 23 pudu there were Sarcocystis cysts in the myocardium. This study represents the first record for Chile of Sarcocystis spp. in myocardium of red deer and fallow deer. Stablishing the red deer, fallow deer and pudu as hosts of Sarcocystis aids to have a better understanding of the parasite epidemiology in Chile and the role of wild and captive cervids in the maintenance and spread of these parasites.\n",
    "art5: In the temperate austral forests endozoochory is crucial for many plants with fleshy fruits, birds being the biggest consumers of fruits and seed dispersers. The Austral thrush Turdus falcklandii is a resident bird that consumes fruits of Myrceugeia planipes, increasing seed germination and reducing the time required for the appearance of the hypocotyl, which translates into competitive advantages for new individuals. (C) 2017 Universidad Nacional Autonoma de Mexico, Instituto de Biologia.\n"
   ]
  },
  {
   "cell_type": "markdown",
   "metadata": {},
   "source": [
    "4.2 Desde Python, conectarse a su cluster ElasticSearch y crear un indice \"articulo-uach\""
   ]
  },
  {
   "cell_type": "code",
   "execution_count": 6,
   "metadata": {
    "scrolled": true
   },
   "outputs": [
    {
     "data": {
      "text/plain": [
       "{'acknowledged': True, 'index': 'articulo-uach', 'shards_acknowledged': True}"
      ]
     },
     "execution_count": 6,
     "metadata": {},
     "output_type": "execute_result"
    }
   ],
   "source": [
    "from elasticsearch import *\n",
    "es = Elasticsearch()\n",
    "\n",
    "es.indices.create(index='articulo-uach', ignore=400)"
   ]
  },
  {
   "cell_type": "markdown",
   "metadata": {},
   "source": [
    "\n",
    "4.3 Indexar los archivos textos recopilados con algunos metadatos adicionales"
   ]
  },
  {
   "cell_type": "code",
   "execution_count": 27,
   "metadata": {},
   "outputs": [
    {
     "name": "stdout",
     "output_type": "stream",
     "text": [
      "insertado el numero: 1\n",
      "insertado el numero: 2\n",
      "insertado el numero: 3\n",
      "insertado el numero: 4\n",
      "insertado el numero: 5\n"
     ]
    }
   ],
   "source": [
    "from datetime import *\n",
    "doc = [{\n",
    "    'id':'1',\n",
    "    'institucion': 'UACH',\n",
    "    'titulo':'Effect of warming anesthetic on pain perception during dental injection: a split-mouth randomized clinical trial.',\n",
    "    'investigador': 'Aravena P, Barrientos, Troncoso, Coronado, Sotelo-Hitschfeld ',\n",
    "    'resumen': 'The purpose of this study is to determine the effectiveness of warming anesthesia on the control of the pain produced during the administration of dental anesthesia injection and to analyze the role of Transient Receptor Potential Vanilloid-1 nociceptor channels in this effect. Patients and methods: A double-blind, split-mouth randomized clinical trial was designed. Seventy-two volunteer students (22.1 +/- 2.45 years old; 51 men) from the School of Dentistry at the Universidad Austral de Chile (Valdivia, Chile) participated. They were each administered 0.9 mL of lidocaine HCl 2% with epinephrine 1: 100,000 (Alphacaine (R)) using two injections in the buccal vestibule at the level of the upper lateral incisor teeth. Anesthesia was administered in a hemiarch at 42 degrees C (107.6 degrees F) and after 1 week, anesthesia was administered by randomized sequence on the contralateral side at room temperature (21 degrees C-69.8 degrees F) at a standardized speed. The intensity of pain perceived during the injection was compared using a 100 mm visual analog scale (VAS; Wilcoxon test p<0.05). ',\n",
    "    'timestamp': datetime.now(),\n",
    "},\n",
    "{\n",
    "    'id':'2',\n",
    "    'institucion': 'UACH',\n",
    "    'titulo':'Does the pre-flowering period determine the potential grain weight of sunflower?',\n",
    "    'investigador': 'Castillo, Francisca M. Vásquez, Santiago C., Calderini, Daniel F.',\n",
    "    'resumen': 'Grain weight (GW) is an important component of grain yield and quality of sunflower and the improvement of this trait has been proposed as an aim for breeding of this crop. There is strong evidence suggesting the pre-flowering period as key to determining GW in different crops; however, the key traits and mechanisms controlling GW during this phase are still largely unknown in sunflower. This study conducted a detailed survey of how the pre-flowering period determines grain growth dynamics by assessing the early developmental process during the growth of reproductive organs and the sensitivity of GW, grain number (GN) and grain oil concentration to different source sink manipulations immediately before flowering. Two experiments were carried out under field conditions in two growing seasons. In Exp. 1 two sunflower oilseed hybrids contrasting in GW (Alybro and SG) were sown at the Experimental Station of the Universidad Austral de Chile in Valdivia (39 degrees 47S, 73 degrees 14W), Chile. In Exp. 2, the same hybrids plus a confectionery genotype (RHA) were evaluated in the Experimental Station where two source sink treatments were performed: a control (without manipulation) and a shading treatment starting 16 days previous to anthesis, i.e. during the R2-R5 period. Crop development, average and individual GW, GN and oil concentration of grains were assessed at harvest. Also, flower and grain traits and their dynamics were measured from early reproductive stage (ovary at R3) to harvest in different grain positions from the capitulum (e.g., fresh and dry weight and dimensions of grains, pericarp and embryo and grain oil concentration). GW was significantly affected by genotype and shading treatments imposed at pre-anthesis, but no statistical effect of the lower source sink ratio was found on GN. Contrary to GW, grain oil of oilseed genotypes was highly conservative under the source sink reduction in our study. Positive associations were found between final GW and: ovary weight at R3, at anthesis (R5), ovary growth rate, grain dimensions and water content. Final GW also showed a linear association with ovary growth rate. This study is the first to evaluate the ovary weight from the early development stage and the ovary growth rate during the pre-anthesis period in sunflower and the effect of source reduction at pre-anthesis on grain oil concentration, supporting the importance of the maternal tissues on the setting of potential and actual GW in sunflower.',\n",
    "    'timestamp': datetime.now(),\n",
    "},\n",
    "{\n",
    "    'id':'3',\n",
    "    'institucion': 'UACH',\n",
    "    'titulo':'Hydrodynamic Analysis of a Heaving Wave Energy Converter',\n",
    "    'investigador': 'Gonzalo Tampier B., Laura Grüter',\n",
    "    'resumen': 'In the present paper, the development of a model scale Wave Energy Converter (WEC) and an experimental WEC test rig are presented, and results of numerical simulations and experimental measurements are shown. The presented point absorber WEC is coupled to a generic power take-off (PTO) and is restricted to pure heave motion in regular waves. Experiments were carried out at the Universidad Austral de Chile (UACh) Wave Tank and results from responses and efficiencies were compared with data from the BEM (boundary element method) code WAMIT. Numerical and experimental results showed good agreement. Finally, results were extrapolated and superposed with typical wave energy spectra found in different Chilean regions, providing a first performance estimation for a wave energy converter in Chile. Results are discussed and compared with an existing technology and give an insight of the potential for wave energy technologies in Chile. Further investigation is proposed for an analysis in irregular waves and the use of a more advanced PTO (power take-off) in the future. (C) 2017 Elsevier Ltd. All rights reserved.',\n",
    "    'timestamp': datetime.now(),\n",
    "},\n",
    "{\n",
    "    'id':'4',\n",
    "    'institucion': 'UACH',\n",
    "    'titulo':'Sarcocystosis in wild red deer (Cervus elaphus) in Patagonia, Argentina',\n",
    "    'investigador': 'Elizabeth Chang Reissig, Gastón Moré, Adriana Massone, Francisco A. Uzal',\n",
    "    'resumen': 'Worldwinde, cervids are considered an important source of infection and dissemination of a wide variety of pathogens, both for farm animals and humans. Among this diseases is sarcosporidiosis, which is a parasitic disease caused by Sarcocystis spp. (Protozoa: Apicomplexa). Most frequent clinical signs are hemolytic anemia, weakness, weight loss and decrease of growth and some species of Sarcocystis might cause abortions. The clinical disease in ruminants is fairly rare but the infection is very frequent. Infections are accumulative and the parasite does not generate immunity in any of the hosts. Ovine sarcosporidiosis is a serious issue in the some regions of Chile due to the macrocysts located in the muscle which means condemnation of the whole carcass. Sarcocystis spp. has been widely reported in red deer and other cervid species but in Chile the situation remains unknown. Nowadays there is little to no evidence of Sarcocystis in foreign deer in Chile and there is only one report of the parasite on pudu. The main goal of this study is to demonstrate the presence of Sarcocystis spp. in myocardium of red deer and fallow deer in Chile, and confirm the presence of Sarcocystis spp. in pudu. All cervid cases from 1994 to 2013 of the Institute of Animal Pathology of the Universidad Austral de Chile were reviewed. The animals selected were those in which a myocardium sample was taken. From the histopathological samples observed, it was found that 5 of the 9 red deer, 1 of the 4 fallow deer and in 11 of the 23 pudu there were Sarcocystis cysts in the myocardium. This study represents the first record for Chile of Sarcocystis spp. in myocardium of red deer and fallow deer. Stablishing the red deer, fallow deer and pudu as hosts of Sarcocystis aids to have a better understanding of the parasite epidemiology in Chile and the role of wild and captive cervids in the maintenance and spread of these parasites.',\n",
    "    'timestamp': datetime.now(),\n",
    "},\n",
    "{\n",
    "    'id':'5',\n",
    "    'institucion': 'UACH',\n",
    "    'titulo':'La importancia del zorzal austral Turdus falcklandii en la germinación de semillas de pitra Myrceugenia planipesThe importance of austral thrush Turdus falcklandii in seed germination of pitra Myrceugenia planipes',\n",
    "    'investigador': 'José I.Orellana, Carlos E.Valdivia',\n",
    "    'resumen': 'In the temperate austral forests endozoochory is crucial for many plants with fleshy fruits, birds being the biggest consumers of fruits and seed dispersers. The Austral thrush Turdus falcklandii is a resident bird that consumes fruits of Myrceugeia planipes, increasing seed germination and reducing the time required for the appearance of the hypocotyl, which translates into competitive advantages for new individuals. (C) 2017 Universidad Nacional Autonoma de Mexico, Instituto de Biologia.',\n",
    "    'timestamp': datetime.now(),\n",
    "}]\n",
    "for i in range(len(doc)):\n",
    "    res = es.index(index=\"articulo-uach\", id=i+1, doc_type=\"articulo\",body=doc[i])\n",
    "    print(\"insertado el numero:\",i+1)\n"
   ]
  },
  {
   "cell_type": "markdown",
   "metadata": {},
   "source": [
    "4.4 Consultas"
   ]
  },
  {
   "cell_type": "code",
   "execution_count": 26,
   "metadata": {},
   "outputs": [
    {
     "name": "stdout",
     "output_type": "stream",
     "text": [
      "obtuvimos 5 resultados:\n",
      "2018-04-23T21:09:26.704294 La importancia del zorzal austral Turdus falcklandii en la germinación de semillas de pitra Myrceugenia planipesThe importance of austral thrush Turdus falcklandii in seed germination of pitra Myrceugenia planipes: José I.Orellana, Carlos E.Valdivia: UACH: In the temperate austral forests endozoochory is crucial for many plants with fleshy fruits, birds being the biggest consumers of fruits and seed dispersers. The Austral thrush Turdus falcklandii is a resident bird that consumes fruits of Myrceugeia planipes, increasing seed germination and reducing the time required for the appearance of the hypocotyl, which translates into competitive advantages for new individuals. (C) 2017 Universidad Nacional Autonoma de Mexico, Instituto de Biologia.\n",
      "2018-04-23T21:09:26.704282 Does the pre-flowering period determine the potential grain weight of sunflower?: Castillo, Francisca M. Vásquez, Santiago C., Calderini, Daniel F.: UACH: Grain weight (GW) is an important component of grain yield and quality of sunflower and the improvement of this trait has been proposed as an aim for breeding of this crop. There is strong evidence suggesting the pre-flowering period as key to determining GW in different crops; however, the key traits and mechanisms controlling GW during this phase are still largely unknown in sunflower. This study conducted a detailed survey of how the pre-flowering period determines grain growth dynamics by assessing the early developmental process during the growth of reproductive organs and the sensitivity of GW, grain number (GN) and grain oil concentration to different source sink manipulations immediately before flowering. Two experiments were carried out under field conditions in two growing seasons. In Exp. 1 two sunflower oilseed hybrids contrasting in GW (Alybro and SG) were sown at the Experimental Station of the Universidad Austral de Chile in Valdivia (39 degrees 47S, 73 degrees 14W), Chile. In Exp. 2, the same hybrids plus a confectionery genotype (RHA) were evaluated in the Experimental Station where two source sink treatments were performed: a control (without manipulation) and a shading treatment starting 16 days previous to anthesis, i.e. during the R2-R5 period. Crop development, average and individual GW, GN and oil concentration of grains were assessed at harvest. Also, flower and grain traits and their dynamics were measured from early reproductive stage (ovary at R3) to harvest in different grain positions from the capitulum (e.g., fresh and dry weight and dimensions of grains, pericarp and embryo and grain oil concentration). GW was significantly affected by genotype and shading treatments imposed at pre-anthesis, but no statistical effect of the lower source sink ratio was found on GN. Contrary to GW, grain oil of oilseed genotypes was highly conservative under the source sink reduction in our study. Positive associations were found between final GW and: ovary weight at R3, at anthesis (R5), ovary growth rate, grain dimensions and water content. Final GW also showed a linear association with ovary growth rate. This study is the first to evaluate the ovary weight from the early development stage and the ovary growth rate during the pre-anthesis period in sunflower and the effect of source reduction at pre-anthesis on grain oil concentration, supporting the importance of the maternal tissues on the setting of potential and actual GW in sunflower.\n",
      "2018-04-23T21:09:26.704290 Sarcocystosis in wild red deer (Cervus elaphus) in Patagonia, Argentina: Elizabeth Chang Reissig, Gastón Moré, Adriana Massone, Francisco A. Uzal: UACH: Worldwinde, cervids are considered an important source of infection and dissemination of a wide variety of pathogens, both for farm animals and humans. Among this diseases is sarcosporidiosis, which is a parasitic disease caused by Sarcocystis spp. (Protozoa: Apicomplexa). Most frequent clinical signs are hemolytic anemia, weakness, weight loss and decrease of growth and some species of Sarcocystis might cause abortions. The clinical disease in ruminants is fairly rare but the infection is very frequent. Infections are accumulative and the parasite does not generate immunity in any of the hosts. Ovine sarcosporidiosis is a serious issue in the some regions of Chile due to the macrocysts located in the muscle which means condemnation of the whole carcass. Sarcocystis spp. has been widely reported in red deer and other cervid species but in Chile the situation remains unknown. Nowadays there is little to no evidence of Sarcocystis in foreign deer in Chile and there is only one report of the parasite on pudu. The main goal of this study is to demonstrate the presence of Sarcocystis spp. in myocardium of red deer and fallow deer in Chile, and confirm the presence of Sarcocystis spp. in pudu. All cervid cases from 1994 to 2013 of the Institute of Animal Pathology of the Universidad Austral de Chile were reviewed. The animals selected were those in which a myocardium sample was taken. From the histopathological samples observed, it was found that 5 of the 9 red deer, 1 of the 4 fallow deer and in 11 of the 23 pudu there were Sarcocystis cysts in the myocardium. This study represents the first record for Chile of Sarcocystis spp. in myocardium of red deer and fallow deer. Stablishing the red deer, fallow deer and pudu as hosts of Sarcocystis aids to have a better understanding of the parasite epidemiology in Chile and the role of wild and captive cervids in the maintenance and spread of these parasites.\n",
      "2018-04-23T21:09:26.704267 Effect of warming anesthetic on pain perception during dental injection: a split-mouth randomized clinical trial.: Aravena P, Barrientos, Troncoso, Coronado, Sotelo-Hitschfeld : UACH: The purpose of this study is to determine the effectiveness of warming anesthesia on the control of the pain produced during the administration of dental anesthesia injection and to analyze the role of Transient Receptor Potential Vanilloid-1 nociceptor channels in this effect. Patients and methods: A double-blind, split-mouth randomized clinical trial was designed. Seventy-two volunteer students (22.1 +/- 2.45 years old; 51 men) from the School of Dentistry at the Universidad Austral de Chile (Valdivia, Chile) participated. They were each administered 0.9 mL of lidocaine HCl 2% with epinephrine 1: 100,000 (Alphacaine (R)) using two injections in the buccal vestibule at the level of the upper lateral incisor teeth. Anesthesia was administered in a hemiarch at 42 degrees C (107.6 degrees F) and after 1 week, anesthesia was administered by randomized sequence on the contralateral side at room temperature (21 degrees C-69.8 degrees F) at a standardized speed. The intensity of pain perceived during the injection was compared using a 100 mm visual analog scale (VAS; Wilcoxon test p<0.05). \n",
      "2018-04-23T21:09:26.704287 Hydrodynamic Analysis of a Heaving Wave Energy Converter: Gonzalo Tampier B., Laura Grüter: UACH: In the present paper, the development of a model scale Wave Energy Converter (WEC) and an experimental WEC test rig are presented, and results of numerical simulations and experimental measurements are shown. The presented point absorber WEC is coupled to a generic power take-off (PTO) and is restricted to pure heave motion in regular waves. Experiments were carried out at the Universidad Austral de Chile (UACh) Wave Tank and results from responses and efficiencies were compared with data from the BEM (boundary element method) code WAMIT. Numerical and experimental results showed good agreement. Finally, results were extrapolated and superposed with typical wave energy spectra found in different Chilean regions, providing a first performance estimation for a wave energy converter in Chile. Results are discussed and compared with an existing technology and give an insight of the potential for wave energy technologies in Chile. Further investigation is proposed for an analysis in irregular waves and the use of a more advanced PTO (power take-off) in the future. (C) 2017 Elsevier Ltd. All rights reserved.\n"
     ]
    }
   ],
   "source": [
    "#imprime la institucion, el resumen, la fecha de insercion en el motor de busqueda, autores y titulo.\n",
    "res = es.search(index=\"articulo-uach\", body={\"query\": {\"match_all\": {}}})\n",
    "print(\"obtuvimos %d resultados:\" % res['hits']['total'])\n",
    "for hit in res['hits']['hits']:\n",
    "    print(\"%(timestamp)s %(titulo)s: %(investigador)s: %(institucion)s: %(resumen)s\" % hit[\"_source\"])"
   ]
  },
  {
   "cell_type": "markdown",
   "metadata": {},
   "source": [
    "Enlaces utiles:\n",
    "http://elasticsearch-py.readthedocs.io/en/master/api.html\n",
    "https://elasticsearch-py.readthedocs.io/en/master/\n",
    "https://www.elastic.co/guide/en/elasticsearch/reference/current/_index_and_query_a_document.html"
   ]
  },
  {
   "cell_type": "code",
   "execution_count": null,
   "metadata": {},
   "outputs": [],
   "source": []
  }
 ],
 "metadata": {
  "kernelspec": {
   "display_name": "Python 3",
   "language": "python",
   "name": "python3"
  },
  "language_info": {
   "codemirror_mode": {
    "name": "ipython",
    "version": 3
   },
   "file_extension": ".py",
   "mimetype": "text/x-python",
   "name": "python",
   "nbconvert_exporter": "python",
   "pygments_lexer": "ipython3",
   "version": "3.5.2"
  }
 },
 "nbformat": 4,
 "nbformat_minor": 2
}
